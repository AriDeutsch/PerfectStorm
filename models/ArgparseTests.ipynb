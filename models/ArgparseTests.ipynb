{
 "cells": [
  {
   "cell_type": "code",
   "execution_count": null,
   "id": "ac120316-f749-4743-8669-0c02fd01af1c",
   "metadata": {},
   "outputs": [],
   "source": [
    "import argparse\n",
    "\n",
    "parser = argparse.ArgumentParser(formatter_class=argparse.ArgumentDefaultsHelpFormatter)\n",
    "parser.add_argument('--name', type=str, default='experiment_name', help='name of the experiment. It decides where to store samples and models')\n",
    "args = parser.parse_args()\n",
    "args.addedOption = True\n",
    "res = \"\"\n",
    "for key in vars(args):\n",
    "    tempStr = f\"{key}\"\n",
    "    res += tempStr.format(**vars(args))\n",
    "print(res)        \n",
    "print(vars(args))"
   ]
  },
  {
   "cell_type": "code",
   "execution_count": null,
   "id": "e3f966f3-e022-4cb2-a35f-e6ffa487ea9c",
   "metadata": {},
   "outputs": [],
   "source": [
    "class Test():\n",
    "    def __init__(self):\n",
    "        self.name = type(self).__name__\n",
    "instTest = Test()\n",
    "        \n",
    "print(\"dataset [%s] was created\" % instTest.name)"
   ]
  },
  {
   "cell_type": "code",
   "execution_count": 14,
   "id": "6a258f99-0cac-4453-a177-d0c1f6e96b01",
   "metadata": {},
   "outputs": [
    {
     "name": "stdout",
     "output_type": "stream",
     "text": [
      "['-1']\n",
      "False\n"
     ]
    }
   ],
   "source": [
    "gpu_ids = '-1'\n",
    "str_ids = gpu_ids.split(',')\n",
    "print(str_ids)\n",
    "gpu_ids = []\n",
    "for str_id in str_ids:\n",
    "    gpu_id = int(str_id)\n",
    "    if gpu_id >= 0:\n",
    "        gpu_ids.append(gpu_id)\n",
    "if len(gpu_ids) > 0:\n",
    "    print(len(gpu_ids))\n",
    "print('True') if gpu_ids else print('False')\n",
    "    "
   ]
  },
  {
   "cell_type": "code",
   "execution_count": 1,
   "id": "d21248aa-c9cd-4990-909d-c46426116e4c",
   "metadata": {},
   "outputs": [
    {
     "name": "stdout",
     "output_type": "stream",
     "text": [
      "1\n",
      "2\n"
     ]
    }
   ],
   "source": [
    "for i in range(2):\n",
    "    mult = 2**i\n",
    "    print(mult)"
   ]
  },
  {
   "cell_type": "code",
   "execution_count": null,
   "id": "6ed4c286-66ca-4fe1-bbb4-a4bfd8a078f9",
   "metadata": {},
   "outputs": [],
   "source": []
  }
 ],
 "metadata": {
  "kernelspec": {
   "display_name": "Python 3",
   "language": "python",
   "name": "python3"
  },
  "language_info": {
   "codemirror_mode": {
    "name": "ipython",
    "version": 3
   },
   "file_extension": ".py",
   "mimetype": "text/x-python",
   "name": "python",
   "nbconvert_exporter": "python",
   "pygments_lexer": "ipython3",
   "version": "3.8.16"
  }
 },
 "nbformat": 4,
 "nbformat_minor": 5
}
